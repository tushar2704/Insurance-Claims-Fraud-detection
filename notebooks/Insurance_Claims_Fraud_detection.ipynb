{
  "cells": [
    {
      "cell_type": "markdown",
      "source": [
        "# Insurance Claims Fraud detection\n",
        "### Author github.com/2704"
      ],
      "metadata": {
        "id": "4eWD7eoGANYJ"
      },
      "id": "4eWD7eoGANYJ"
    },
    {
      "cell_type": "markdown",
      "source": [
        "### Importing the required Libraries\n"
      ],
      "metadata": {
        "id": "f14N6VI5A3CB"
      },
      "id": "f14N6VI5A3CB"
    },
    {
      "cell_type": "code",
      "execution_count": 1,
      "id": "580d4ef7-28ce-441b-840b-3f1b2861067d",
      "metadata": {
        "id": "580d4ef7-28ce-441b-840b-3f1b2861067d"
      },
      "outputs": [],
      "source": [
        "import pandas as pd\n",
        "import pickle\n",
        "from sklearn.preprocessing import OneHotEncoder\n",
        "from sklearn.model_selection import train_test_split\n"
      ]
    },
    {
      "cell_type": "code",
      "execution_count": 3,
      "id": "38f4bd9c-9198-48f5-894f-52476c7731c6",
      "metadata": {
        "colab": {
          "base_uri": "https://localhost:8080/",
          "height": 1000
        },
        "id": "38f4bd9c-9198-48f5-894f-52476c7731c6",
        "outputId": "20f45bb5-22a4-48b9-dc99-2e35f4552e8a"
      },
      "outputs": [
        {
          "output_type": "stream",
          "name": "stdout",
          "text": [
            "<class 'pandas.core.frame.DataFrame'>\n",
            "RangeIndex: 15420 entries, 0 to 15419\n",
            "Data columns (total 33 columns):\n",
            " #   Column                Non-Null Count  Dtype \n",
            "---  ------                --------------  ----- \n",
            " 0   Month                 15420 non-null  object\n",
            " 1   WeekOfMonth           15420 non-null  int64 \n",
            " 2   DayOfWeek             15420 non-null  object\n",
            " 3   Make                  15420 non-null  object\n",
            " 4   AccidentArea          15420 non-null  object\n",
            " 5   DayOfWeekClaimed      15420 non-null  object\n",
            " 6   MonthClaimed          15420 non-null  object\n",
            " 7   WeekOfMonthClaimed    15420 non-null  int64 \n",
            " 8   Sex                   15420 non-null  object\n",
            " 9   MaritalStatus         15420 non-null  object\n",
            " 10  Age                   15420 non-null  int64 \n",
            " 11  Fault                 15420 non-null  object\n",
            " 12  PolicyType            15420 non-null  object\n",
            " 13  VehicleCategory       15420 non-null  object\n",
            " 14  VehiclePrice          15420 non-null  object\n",
            " 15  FraudFound_P          15420 non-null  int64 \n",
            " 16  PolicyNumber          15420 non-null  int64 \n",
            " 17  RepNumber             15420 non-null  int64 \n",
            " 18  Deductible            15420 non-null  int64 \n",
            " 19  DriverRating          15420 non-null  int64 \n",
            " 20  Days_Policy_Accident  15420 non-null  object\n",
            " 21  Days_Policy_Claim     15420 non-null  object\n",
            " 22  PastNumberOfClaims    15420 non-null  object\n",
            " 23  AgeOfVehicle          15420 non-null  object\n",
            " 24  AgeOfPolicyHolder     15420 non-null  object\n",
            " 25  PoliceReportFiled     15420 non-null  object\n",
            " 26  WitnessPresent        15420 non-null  object\n",
            " 27  AgentType             15420 non-null  object\n",
            " 28  NumberOfSuppliments   15420 non-null  object\n",
            " 29  AddressChange_Claim   15420 non-null  object\n",
            " 30  NumberOfCars          15420 non-null  object\n",
            " 31  Year                  15420 non-null  int64 \n",
            " 32  BasePolicy            15420 non-null  object\n",
            "dtypes: int64(9), object(24)\n",
            "memory usage: 3.9+ MB\n"
          ]
        },
        {
          "output_type": "execute_result",
          "data": {
            "text/plain": [
              "  Month  WeekOfMonth  DayOfWeek    Make AccidentArea DayOfWeekClaimed  \\\n",
              "0   Dec            5  Wednesday   Honda        Urban          Tuesday   \n",
              "1   Jan            3  Wednesday   Honda        Urban           Monday   \n",
              "2   Oct            5     Friday   Honda        Urban         Thursday   \n",
              "3   Jun            2   Saturday  Toyota        Rural           Friday   \n",
              "4   Jan            5     Monday   Honda        Urban          Tuesday   \n",
              "\n",
              "  MonthClaimed  WeekOfMonthClaimed     Sex MaritalStatus  ...  AgeOfVehicle  \\\n",
              "0          Jan                   1  Female        Single  ...       3 years   \n",
              "1          Jan                   4    Male        Single  ...       6 years   \n",
              "2          Nov                   2    Male       Married  ...       7 years   \n",
              "3          Jul                   1    Male       Married  ...   more than 7   \n",
              "4          Feb                   2  Female        Single  ...       5 years   \n",
              "\n",
              "  AgeOfPolicyHolder PoliceReportFiled WitnessPresent AgentType  \\\n",
              "0          26 to 30                No             No  External   \n",
              "1          31 to 35               Yes             No  External   \n",
              "2          41 to 50                No             No  External   \n",
              "3          51 to 65               Yes             No  External   \n",
              "4          31 to 35                No             No  External   \n",
              "\n",
              "   NumberOfSuppliments  AddressChange_Claim  NumberOfCars  Year  BasePolicy  \n",
              "0                 none               1 year        3 to 4  1994   Liability  \n",
              "1                 none            no change     1 vehicle  1994   Collision  \n",
              "2                 none            no change     1 vehicle  1994   Collision  \n",
              "3          more than 5            no change     1 vehicle  1994   Liability  \n",
              "4                 none            no change     1 vehicle  1994   Collision  \n",
              "\n",
              "[5 rows x 33 columns]"
            ],
            "text/html": [
              "\n",
              "\n",
              "  <div id=\"df-aa5efbca-00aa-4cbc-a3ce-013b8c69b264\">\n",
              "    <div class=\"colab-df-container\">\n",
              "      <div>\n",
              "<style scoped>\n",
              "    .dataframe tbody tr th:only-of-type {\n",
              "        vertical-align: middle;\n",
              "    }\n",
              "\n",
              "    .dataframe tbody tr th {\n",
              "        vertical-align: top;\n",
              "    }\n",
              "\n",
              "    .dataframe thead th {\n",
              "        text-align: right;\n",
              "    }\n",
              "</style>\n",
              "<table border=\"1\" class=\"dataframe\">\n",
              "  <thead>\n",
              "    <tr style=\"text-align: right;\">\n",
              "      <th></th>\n",
              "      <th>Month</th>\n",
              "      <th>WeekOfMonth</th>\n",
              "      <th>DayOfWeek</th>\n",
              "      <th>Make</th>\n",
              "      <th>AccidentArea</th>\n",
              "      <th>DayOfWeekClaimed</th>\n",
              "      <th>MonthClaimed</th>\n",
              "      <th>WeekOfMonthClaimed</th>\n",
              "      <th>Sex</th>\n",
              "      <th>MaritalStatus</th>\n",
              "      <th>...</th>\n",
              "      <th>AgeOfVehicle</th>\n",
              "      <th>AgeOfPolicyHolder</th>\n",
              "      <th>PoliceReportFiled</th>\n",
              "      <th>WitnessPresent</th>\n",
              "      <th>AgentType</th>\n",
              "      <th>NumberOfSuppliments</th>\n",
              "      <th>AddressChange_Claim</th>\n",
              "      <th>NumberOfCars</th>\n",
              "      <th>Year</th>\n",
              "      <th>BasePolicy</th>\n",
              "    </tr>\n",
              "  </thead>\n",
              "  <tbody>\n",
              "    <tr>\n",
              "      <th>0</th>\n",
              "      <td>Dec</td>\n",
              "      <td>5</td>\n",
              "      <td>Wednesday</td>\n",
              "      <td>Honda</td>\n",
              "      <td>Urban</td>\n",
              "      <td>Tuesday</td>\n",
              "      <td>Jan</td>\n",
              "      <td>1</td>\n",
              "      <td>Female</td>\n",
              "      <td>Single</td>\n",
              "      <td>...</td>\n",
              "      <td>3 years</td>\n",
              "      <td>26 to 30</td>\n",
              "      <td>No</td>\n",
              "      <td>No</td>\n",
              "      <td>External</td>\n",
              "      <td>none</td>\n",
              "      <td>1 year</td>\n",
              "      <td>3 to 4</td>\n",
              "      <td>1994</td>\n",
              "      <td>Liability</td>\n",
              "    </tr>\n",
              "    <tr>\n",
              "      <th>1</th>\n",
              "      <td>Jan</td>\n",
              "      <td>3</td>\n",
              "      <td>Wednesday</td>\n",
              "      <td>Honda</td>\n",
              "      <td>Urban</td>\n",
              "      <td>Monday</td>\n",
              "      <td>Jan</td>\n",
              "      <td>4</td>\n",
              "      <td>Male</td>\n",
              "      <td>Single</td>\n",
              "      <td>...</td>\n",
              "      <td>6 years</td>\n",
              "      <td>31 to 35</td>\n",
              "      <td>Yes</td>\n",
              "      <td>No</td>\n",
              "      <td>External</td>\n",
              "      <td>none</td>\n",
              "      <td>no change</td>\n",
              "      <td>1 vehicle</td>\n",
              "      <td>1994</td>\n",
              "      <td>Collision</td>\n",
              "    </tr>\n",
              "    <tr>\n",
              "      <th>2</th>\n",
              "      <td>Oct</td>\n",
              "      <td>5</td>\n",
              "      <td>Friday</td>\n",
              "      <td>Honda</td>\n",
              "      <td>Urban</td>\n",
              "      <td>Thursday</td>\n",
              "      <td>Nov</td>\n",
              "      <td>2</td>\n",
              "      <td>Male</td>\n",
              "      <td>Married</td>\n",
              "      <td>...</td>\n",
              "      <td>7 years</td>\n",
              "      <td>41 to 50</td>\n",
              "      <td>No</td>\n",
              "      <td>No</td>\n",
              "      <td>External</td>\n",
              "      <td>none</td>\n",
              "      <td>no change</td>\n",
              "      <td>1 vehicle</td>\n",
              "      <td>1994</td>\n",
              "      <td>Collision</td>\n",
              "    </tr>\n",
              "    <tr>\n",
              "      <th>3</th>\n",
              "      <td>Jun</td>\n",
              "      <td>2</td>\n",
              "      <td>Saturday</td>\n",
              "      <td>Toyota</td>\n",
              "      <td>Rural</td>\n",
              "      <td>Friday</td>\n",
              "      <td>Jul</td>\n",
              "      <td>1</td>\n",
              "      <td>Male</td>\n",
              "      <td>Married</td>\n",
              "      <td>...</td>\n",
              "      <td>more than 7</td>\n",
              "      <td>51 to 65</td>\n",
              "      <td>Yes</td>\n",
              "      <td>No</td>\n",
              "      <td>External</td>\n",
              "      <td>more than 5</td>\n",
              "      <td>no change</td>\n",
              "      <td>1 vehicle</td>\n",
              "      <td>1994</td>\n",
              "      <td>Liability</td>\n",
              "    </tr>\n",
              "    <tr>\n",
              "      <th>4</th>\n",
              "      <td>Jan</td>\n",
              "      <td>5</td>\n",
              "      <td>Monday</td>\n",
              "      <td>Honda</td>\n",
              "      <td>Urban</td>\n",
              "      <td>Tuesday</td>\n",
              "      <td>Feb</td>\n",
              "      <td>2</td>\n",
              "      <td>Female</td>\n",
              "      <td>Single</td>\n",
              "      <td>...</td>\n",
              "      <td>5 years</td>\n",
              "      <td>31 to 35</td>\n",
              "      <td>No</td>\n",
              "      <td>No</td>\n",
              "      <td>External</td>\n",
              "      <td>none</td>\n",
              "      <td>no change</td>\n",
              "      <td>1 vehicle</td>\n",
              "      <td>1994</td>\n",
              "      <td>Collision</td>\n",
              "    </tr>\n",
              "  </tbody>\n",
              "</table>\n",
              "<p>5 rows × 33 columns</p>\n",
              "</div>\n",
              "      <button class=\"colab-df-convert\" onclick=\"convertToInteractive('df-aa5efbca-00aa-4cbc-a3ce-013b8c69b264')\"\n",
              "              title=\"Convert this dataframe to an interactive table.\"\n",
              "              style=\"display:none;\">\n",
              "\n",
              "  <svg xmlns=\"http://www.w3.org/2000/svg\" height=\"24px\"viewBox=\"0 0 24 24\"\n",
              "       width=\"24px\">\n",
              "    <path d=\"M0 0h24v24H0V0z\" fill=\"none\"/>\n",
              "    <path d=\"M18.56 5.44l.94 2.06.94-2.06 2.06-.94-2.06-.94-.94-2.06-.94 2.06-2.06.94zm-11 1L8.5 8.5l.94-2.06 2.06-.94-2.06-.94L8.5 2.5l-.94 2.06-2.06.94zm10 10l.94 2.06.94-2.06 2.06-.94-2.06-.94-.94-2.06-.94 2.06-2.06.94z\"/><path d=\"M17.41 7.96l-1.37-1.37c-.4-.4-.92-.59-1.43-.59-.52 0-1.04.2-1.43.59L10.3 9.45l-7.72 7.72c-.78.78-.78 2.05 0 2.83L4 21.41c.39.39.9.59 1.41.59.51 0 1.02-.2 1.41-.59l7.78-7.78 2.81-2.81c.8-.78.8-2.07 0-2.86zM5.41 20L4 18.59l7.72-7.72 1.47 1.35L5.41 20z\"/>\n",
              "  </svg>\n",
              "      </button>\n",
              "\n",
              "\n",
              "\n",
              "    <div id=\"df-a75ba9e7-0659-4149-bb67-8b4e7fe2a4ae\">\n",
              "      <button class=\"colab-df-quickchart\" onclick=\"quickchart('df-a75ba9e7-0659-4149-bb67-8b4e7fe2a4ae')\"\n",
              "              title=\"Suggest charts.\"\n",
              "              style=\"display:none;\">\n",
              "\n",
              "<svg xmlns=\"http://www.w3.org/2000/svg\" height=\"24px\"viewBox=\"0 0 24 24\"\n",
              "     width=\"24px\">\n",
              "    <g>\n",
              "        <path d=\"M19 3H5c-1.1 0-2 .9-2 2v14c0 1.1.9 2 2 2h14c1.1 0 2-.9 2-2V5c0-1.1-.9-2-2-2zM9 17H7v-7h2v7zm4 0h-2V7h2v10zm4 0h-2v-4h2v4z\"/>\n",
              "    </g>\n",
              "</svg>\n",
              "      </button>\n",
              "    </div>\n",
              "\n",
              "<style>\n",
              "  .colab-df-quickchart {\n",
              "    background-color: #E8F0FE;\n",
              "    border: none;\n",
              "    border-radius: 50%;\n",
              "    cursor: pointer;\n",
              "    display: none;\n",
              "    fill: #1967D2;\n",
              "    height: 32px;\n",
              "    padding: 0 0 0 0;\n",
              "    width: 32px;\n",
              "  }\n",
              "\n",
              "  .colab-df-quickchart:hover {\n",
              "    background-color: #E2EBFA;\n",
              "    box-shadow: 0px 1px 2px rgba(60, 64, 67, 0.3), 0px 1px 3px 1px rgba(60, 64, 67, 0.15);\n",
              "    fill: #174EA6;\n",
              "  }\n",
              "\n",
              "  [theme=dark] .colab-df-quickchart {\n",
              "    background-color: #3B4455;\n",
              "    fill: #D2E3FC;\n",
              "  }\n",
              "\n",
              "  [theme=dark] .colab-df-quickchart:hover {\n",
              "    background-color: #434B5C;\n",
              "    box-shadow: 0px 1px 3px 1px rgba(0, 0, 0, 0.15);\n",
              "    filter: drop-shadow(0px 1px 2px rgba(0, 0, 0, 0.3));\n",
              "    fill: #FFFFFF;\n",
              "  }\n",
              "</style>\n",
              "\n",
              "    <script>\n",
              "      async function quickchart(key) {\n",
              "        const containerElement = document.querySelector('#' + key);\n",
              "        const charts = await google.colab.kernel.invokeFunction(\n",
              "            'suggestCharts', [key], {});\n",
              "      }\n",
              "    </script>\n",
              "\n",
              "      <script>\n",
              "\n",
              "function displayQuickchartButton(domScope) {\n",
              "  let quickchartButtonEl =\n",
              "    domScope.querySelector('#df-a75ba9e7-0659-4149-bb67-8b4e7fe2a4ae button.colab-df-quickchart');\n",
              "  quickchartButtonEl.style.display =\n",
              "    google.colab.kernel.accessAllowed ? 'block' : 'none';\n",
              "}\n",
              "\n",
              "        displayQuickchartButton(document);\n",
              "      </script>\n",
              "      <style>\n",
              "    .colab-df-container {\n",
              "      display:flex;\n",
              "      flex-wrap:wrap;\n",
              "      gap: 12px;\n",
              "    }\n",
              "\n",
              "    .colab-df-convert {\n",
              "      background-color: #E8F0FE;\n",
              "      border: none;\n",
              "      border-radius: 50%;\n",
              "      cursor: pointer;\n",
              "      display: none;\n",
              "      fill: #1967D2;\n",
              "      height: 32px;\n",
              "      padding: 0 0 0 0;\n",
              "      width: 32px;\n",
              "    }\n",
              "\n",
              "    .colab-df-convert:hover {\n",
              "      background-color: #E2EBFA;\n",
              "      box-shadow: 0px 1px 2px rgba(60, 64, 67, 0.3), 0px 1px 3px 1px rgba(60, 64, 67, 0.15);\n",
              "      fill: #174EA6;\n",
              "    }\n",
              "\n",
              "    [theme=dark] .colab-df-convert {\n",
              "      background-color: #3B4455;\n",
              "      fill: #D2E3FC;\n",
              "    }\n",
              "\n",
              "    [theme=dark] .colab-df-convert:hover {\n",
              "      background-color: #434B5C;\n",
              "      box-shadow: 0px 1px 3px 1px rgba(0, 0, 0, 0.15);\n",
              "      filter: drop-shadow(0px 1px 2px rgba(0, 0, 0, 0.3));\n",
              "      fill: #FFFFFF;\n",
              "    }\n",
              "  </style>\n",
              "\n",
              "      <script>\n",
              "        const buttonEl =\n",
              "          document.querySelector('#df-aa5efbca-00aa-4cbc-a3ce-013b8c69b264 button.colab-df-convert');\n",
              "        buttonEl.style.display =\n",
              "          google.colab.kernel.accessAllowed ? 'block' : 'none';\n",
              "\n",
              "        async function convertToInteractive(key) {\n",
              "          const element = document.querySelector('#df-aa5efbca-00aa-4cbc-a3ce-013b8c69b264');\n",
              "          const dataTable =\n",
              "            await google.colab.kernel.invokeFunction('convertToInteractive',\n",
              "                                                     [key], {});\n",
              "          if (!dataTable) return;\n",
              "\n",
              "          const docLinkHtml = 'Like what you see? Visit the ' +\n",
              "            '<a target=\"_blank\" href=https://colab.research.google.com/notebooks/data_table.ipynb>data table notebook</a>'\n",
              "            + ' to learn more about interactive tables.';\n",
              "          element.innerHTML = '';\n",
              "          dataTable['output_type'] = 'display_data';\n",
              "          await google.colab.output.renderOutput(dataTable, element);\n",
              "          const docLink = document.createElement('div');\n",
              "          docLink.innerHTML = docLinkHtml;\n",
              "          element.appendChild(docLink);\n",
              "        }\n",
              "      </script>\n",
              "    </div>\n",
              "  </div>\n"
            ]
          },
          "metadata": {},
          "execution_count": 3
        }
      ],
      "source": [
        "df= pd.read_csv('/content/fraud.csv')\n",
        "df.info()\n",
        "df.head()"
      ]
    },
    {
      "cell_type": "code",
      "execution_count": 4,
      "id": "a8333b0b-3a4c-43af-8b0a-407927669982",
      "metadata": {
        "id": "a8333b0b-3a4c-43af-8b0a-407927669982"
      },
      "outputs": [],
      "source": [
        "df['PolicyType'] = df['PolicyType'].str.replace(' - ', '_')\n",
        "df = df.replace(' ', '_', regex=True)\n",
        "\n"
      ]
    },
    {
      "cell_type": "code",
      "execution_count": 7,
      "id": "19161083-0c50-41e7-a0d9-251472b61964",
      "metadata": {
        "colab": {
          "base_uri": "https://localhost:8080/"
        },
        "id": "19161083-0c50-41e7-a0d9-251472b61964",
        "outputId": "cd3b803f-b17f-4b1d-88f5-deb3dfa83fe6"
      },
      "outputs": [
        {
          "output_type": "stream",
          "name": "stdout",
          "text": [
            "Month\n",
            "['Apr', 'Aug', 'Dec', 'Feb', 'Jan', 'Jul', 'Jun', 'Mar', 'May', 'Nov', 'Oct', 'Sep'] \n",
            "\n",
            "WeekOfMonth\n",
            "[1, 2, 3, 4, 5] \n",
            "\n",
            "DayOfWeek\n",
            "['Friday', 'Monday', 'Saturday', 'Sunday', 'Thursday', 'Tuesday', 'Wednesday'] \n",
            "\n",
            "Make\n",
            "['Accura', 'BMW', 'Chevrolet', 'Dodge', 'Ferrari', 'Ford', 'Honda', 'Jaguar', 'Lexus', 'Mazda', 'Mecedes', 'Mercury', 'Nisson', 'Pontiac', 'Porche', 'Saab', 'Saturn', 'Toyota', 'VW'] \n",
            "\n",
            "AccidentArea\n",
            "['Rural', 'Urban'] \n",
            "\n",
            "DayOfWeekClaimed\n",
            "['0', 'Friday', 'Monday', 'Saturday', 'Sunday', 'Thursday', 'Tuesday', 'Wednesday'] \n",
            "\n",
            "MonthClaimed\n",
            "['0', 'Apr', 'Aug', 'Dec', 'Feb', 'Jan', 'Jul', 'Jun', 'Mar', 'May', 'Nov', 'Oct', 'Sep'] \n",
            "\n",
            "WeekOfMonthClaimed\n",
            "[1, 2, 3, 4, 5] \n",
            "\n",
            "Sex\n",
            "['Female', 'Male'] \n",
            "\n",
            "MaritalStatus\n",
            "['Divorced', 'Married', 'Single', 'Widow'] \n",
            "\n",
            "Age\n",
            "[0, 16, 17, 18, 19, 20, 21, 22, 23, 24, 25, 26, 27, 28, 29, 30, 31, 32, 33, 34, 35, 36, 37, 38, 39, 40, 41, 42, 43, 44, 45, 46, 47, 48, 49, 50, 51, 52, 53, 54, 55, 56, 57, 58, 59, 60, 61, 62, 63, 64, 65, 66, 67, 68, 69, 70, 71, 72, 73, 74, 75, 76, 77, 78, 79, 80] \n",
            "\n",
            "Fault\n",
            "['Policy_Holder', 'Third_Party'] \n",
            "\n",
            "PolicyType\n",
            "['Sedan_All_Perils', 'Sedan_Collision', 'Sedan_Liability', 'Sport_All_Perils', 'Sport_Collision', 'Sport_Liability', 'Utility_All_Perils', 'Utility_Collision', 'Utility_Liability'] \n",
            "\n",
            "VehicleCategory\n",
            "['Sedan', 'Sport', 'Utility'] \n",
            "\n",
            "VehiclePrice\n",
            "['20000_to_29000', '30000_to_39000', '40000_to_59000', '60000_to_69000', 'less_than_20000', 'more_than_69000'] \n",
            "\n",
            "FraudFound_P\n",
            "[0, 1] \n",
            "\n",
            "RepNumber\n",
            "[1, 2, 3, 4, 5, 6, 7, 8, 9, 10, 11, 12, 13, 14, 15, 16] \n",
            "\n",
            "Deductible\n",
            "[300, 400, 500, 700] \n",
            "\n",
            "DriverRating\n",
            "[1, 2, 3, 4] \n",
            "\n",
            "Days_Policy_Accident\n",
            "['15_to_30', '1_to_7', '8_to_15', 'more_than_30', 'none'] \n",
            "\n",
            "Days_Policy_Claim\n",
            "['15_to_30', '8_to_15', 'more_than_30', 'none'] \n",
            "\n",
            "PastNumberOfClaims\n",
            "['1', '2_to_4', 'more_than_4', 'none'] \n",
            "\n",
            "AgeOfVehicle\n",
            "['2_years', '3_years', '4_years', '5_years', '6_years', '7_years', 'more_than_7', 'new'] \n",
            "\n",
            "AgeOfPolicyHolder\n",
            "['16_to_17', '18_to_20', '21_to_25', '26_to_30', '31_to_35', '36_to_40', '41_to_50', '51_to_65', 'over_65'] \n",
            "\n",
            "PoliceReportFiled\n",
            "['No', 'Yes'] \n",
            "\n",
            "WitnessPresent\n",
            "['No', 'Yes'] \n",
            "\n",
            "AgentType\n",
            "['External', 'Internal'] \n",
            "\n",
            "NumberOfSuppliments\n",
            "['1_to_2', '3_to_5', 'more_than_5', 'none'] \n",
            "\n",
            "AddressChange_Claim\n",
            "['1_year', '2_to_3_years', '4_to_8_years', 'no_change', 'under_6_months'] \n",
            "\n",
            "NumberOfCars\n",
            "['1_vehicle', '2_vehicles', '3_to_4', '5_to_8', 'more_than_8'] \n",
            "\n",
            "Year\n",
            "[1994, 1995, 1996] \n",
            "\n",
            "BasePolicy\n",
            "['All_Perils', 'Collision', 'Liability'] \n",
            "\n"
          ]
        }
      ],
      "source": [
        "#Checking for unique values\n",
        "for column in df:\n",
        "    if column == 'PolicyNumber':\n",
        "        pass\n",
        "    else:\n",
        "        print(column)\n",
        "        print(sorted(df[column].unique()),\"\\n\")"
      ]
    },
    {
      "cell_type": "code",
      "execution_count": 8,
      "id": "799f4239-3ca9-4ee8-88ac-4cbda7fbbe31",
      "metadata": {
        "colab": {
          "base_uri": "https://localhost:8080/"
        },
        "id": "799f4239-3ca9-4ee8-88ac-4cbda7fbbe31",
        "outputId": "1dbebafb-0a6a-42b6-ece1-de0540099912"
      },
      "outputs": [
        {
          "output_type": "stream",
          "name": "stderr",
          "text": [
            "<ipython-input-8-cf5ab75aa548>:1: FutureWarning: In a future version of pandas all arguments of DataFrame.drop except for the argument 'labels' will be keyword-only.\n",
            "  features= df.drop('FraudFound_P',1).columns\n"
          ]
        }
      ],
      "source": [
        "features= df.drop('FraudFound_P',1).columns\n",
        "pickle.dump(features, open(\"features1.pkl\",\"wb\"))"
      ]
    },
    {
      "cell_type": "code",
      "execution_count": 9,
      "id": "fa9d6856-8a8a-4fda-951d-1080777c5eb0",
      "metadata": {
        "colab": {
          "base_uri": "https://localhost:8080/"
        },
        "id": "fa9d6856-8a8a-4fda-951d-1080777c5eb0",
        "outputId": "64bdb4d4-2b5e-4ed0-a149-efdb7cdee213"
      },
      "outputs": [
        {
          "output_type": "stream",
          "name": "stdout",
          "text": [
            "['Month', 'DayOfWeek', 'Make', 'AccidentArea', 'DayOfWeekClaimed', 'MonthClaimed', 'Sex', 'MaritalStatus', 'Fault', 'PolicyType', 'VehicleCategory', 'VehiclePrice', 'Days_Policy_Accident', 'Days_Policy_Claim', 'PastNumberOfClaims', 'AgeOfVehicle', 'AgeOfPolicyHolder', 'PoliceReportFiled', 'WitnessPresent', 'AgentType', 'NumberOfSuppliments', 'AddressChange_Claim', 'NumberOfCars', 'BasePolicy']\n"
          ]
        }
      ],
      "source": [
        "#Function for categorical columns extraction\n",
        "def get_categorical_columns(dataframe):\n",
        "    categorical_columns = dataframe.select_dtypes(include='object').columns.tolist()\n",
        "    return categorical_columns\n",
        "categorical_cols = get_categorical_columns(df)\n",
        "print(categorical_cols)"
      ]
    },
    {
      "cell_type": "code",
      "execution_count": 11,
      "id": "a41f1610-d0a8-4e79-8a4c-ab414bd59e21",
      "metadata": {
        "colab": {
          "base_uri": "https://localhost:8080/"
        },
        "id": "a41f1610-d0a8-4e79-8a4c-ab414bd59e21",
        "outputId": "295865bc-e4fd-4d81-8950-ba8d57f5a8b7"
      },
      "outputs": [
        {
          "output_type": "stream",
          "name": "stderr",
          "text": [
            "/usr/local/lib/python3.10/dist-packages/sklearn/preprocessing/_encoders.py:868: FutureWarning: `sparse` was renamed to `sparse_output` in version 1.2 and will be removed in 1.4. `sparse_output` is ignored unless you leave `sparse` to its default value.\n",
            "  warnings.warn(\n"
          ]
        }
      ],
      "source": [
        "#OneHotEncoding for Categorical columns\n",
        "columns_to_encode = ['Month', 'DayOfWeek', 'Make', 'AccidentArea', 'DayOfWeekClaimed', 'MonthClaimed', 'Sex', 'MaritalStatus', 'Fault', 'PolicyType', 'VehicleCategory', 'VehiclePrice', 'Days_Policy_Accident', 'Days_Policy_Claim', 'PastNumberOfClaims', 'AgeOfVehicle', 'AgeOfPolicyHolder', 'PoliceReportFiled', 'WitnessPresent', 'AgentType',\n",
        "                     'NumberOfSuppliments', 'AddressChange_Claim', 'NumberOfCars', 'BasePolicy']\n",
        "enc = OneHotEncoder(sparse=False).fit(df.loc[:,columns_to_encode])\n",
        "pickle.dump(enc, open(\"encoder1.pkl\",\"wb\"))"
      ]
    },
    {
      "cell_type": "code",
      "execution_count": 12,
      "id": "071deb61-5740-4953-8dd8-66d1856cca22",
      "metadata": {
        "colab": {
          "base_uri": "https://localhost:8080/"
        },
        "id": "071deb61-5740-4953-8dd8-66d1856cca22",
        "outputId": "42e2bca2-5af3-4c08-d1c3-5e7cf583087c"
      },
      "outputs": [
        {
          "output_type": "stream",
          "name": "stderr",
          "text": [
            "<ipython-input-12-280a822e9d6a>:3: FutureWarning: In a future version of pandas all arguments of DataFrame.drop except for the argument 'labels' will be keyword-only.\n",
            "  df = df.drop(columns_to_encode, 1)\n",
            "<ipython-input-12-280a822e9d6a>:5: FutureWarning: In a future version of pandas all arguments of DataFrame.drop except for the argument 'labels' will be keyword-only.\n",
            "  X, y = df.drop('FraudFound_P', 1), df.loc[:, 'FraudFound_P']\n"
          ]
        }
      ],
      "source": [
        "column_names = enc.get_feature_names_out(columns_to_encode)\n",
        "encoded_variables = pd.DataFrame(enc.transform(df.loc[:, columns_to_encode]), columns=column_names)\n",
        "df = df.drop(columns_to_encode, 1)\n",
        "df = pd.concat([df, encoded_variables], axis=1)\n",
        "X, y = df.drop('FraudFound_P', 1), df.loc[:, 'FraudFound_P']\n",
        "X_train, X_test, y_train, y_test=train_test_split(X,y,test_size = 0.3, shuffle = True, random_state = 1)"
      ]
    },
    {
      "cell_type": "code",
      "execution_count": 13,
      "id": "b1193704-4cdb-441a-935a-dd4f1e8e2e46",
      "metadata": {
        "colab": {
          "base_uri": "https://localhost:8080/"
        },
        "id": "b1193704-4cdb-441a-935a-dd4f1e8e2e46",
        "outputId": "aa63b087-0312-49cd-85d9-b1cdb5615ec8"
      },
      "outputs": [
        {
          "output_type": "stream",
          "name": "stdout",
          "text": [
            "(10794, 148) (4626, 148)\n"
          ]
        }
      ],
      "source": [
        "print(X_train.shape,X_test.shape)"
      ]
    },
    {
      "cell_type": "markdown",
      "source": [
        "## Importing Modeling libraries"
      ],
      "metadata": {
        "id": "ptUchguFCLpT"
      },
      "id": "ptUchguFCLpT"
    },
    {
      "cell_type": "code",
      "execution_count": 16,
      "id": "5b58821f-135a-4989-8bf6-8e1fcc5361c2",
      "metadata": {
        "id": "5b58821f-135a-4989-8bf6-8e1fcc5361c2"
      },
      "outputs": [],
      "source": [
        "!pip install -q xgboost lightgbm"
      ]
    },
    {
      "cell_type": "code",
      "execution_count": 15,
      "id": "4ccfae1d-7121-4b80-aa24-be41231bffba",
      "metadata": {
        "id": "4ccfae1d-7121-4b80-aa24-be41231bffba"
      },
      "outputs": [],
      "source": [
        "import xgboost as xgb\n",
        "from sklearn.metrics import classification_report\n",
        "from xgboost import XGBClassifier\n",
        "from lightgbm import LGBMClassifier\n",
        "from sklearn.model_selection import GridSearchCV"
      ]
    },
    {
      "cell_type": "code",
      "execution_count": 17,
      "id": "48b7b263-f49b-40c7-a3a3-901b23cf6023",
      "metadata": {
        "id": "48b7b263-f49b-40c7-a3a3-901b23cf6023"
      },
      "outputs": [],
      "source": [
        "from sklearn.metrics import (\n",
        "    f1_score,\n",
        "    accuracy_score,\n",
        "    recall_score,\n",
        "    precision_score,\n",
        "    confusion_matrix,\n",
        "    roc_auc_score,\n",
        "\n",
        "    classification_report,\n",
        "    precision_recall_curve\n",
        ")\n",
        "\n"
      ]
    },
    {
      "cell_type": "markdown",
      "source": [
        "### XGBClassifier"
      ],
      "metadata": {
        "id": "rU8TeMKHC2dM"
      },
      "id": "rU8TeMKHC2dM"
    },
    {
      "cell_type": "code",
      "execution_count": null,
      "id": "916f6f0b-a043-4727-8c53-671e8e639126",
      "metadata": {
        "id": "916f6f0b-a043-4727-8c53-671e8e639126"
      },
      "outputs": [],
      "source": [
        "xgb_model = XGBClassifier(objective='binary:logistic')\n",
        "\n",
        "\n",
        "param_grid = {\n",
        "    'n_estimators': [50, 100, 200],\n",
        "    'max_depth': [3, 4, 5],\n",
        "    'learning_rate': [0.1, 0.01, 0.001],\n",
        "    'gamma': [0, 0.1, 0.5],\n",
        "    'subsample': [0.5, 0.75, 1],\n",
        "    'colsample_bytree': [0.5, 0.75, 1]\n",
        "}\n",
        "\n",
        "grid_search = GridSearchCV(estimator=xgb_model, param_grid=param_grid, cv=3, scoring='accuracy')\n",
        "\n",
        "grid_search.fit(X_train, y_train)\n",
        "\n",
        "print(\"Best hyperparameters: \", grid_search.best_params_)\n",
        "print(\"Accuracy score: \", grid_search.best_score_)\n",
        "\n",
        "best_xgb_model =XGBClassifier(objective='binary:logistic', **grid_search.best_params_)\n",
        "best_xgb_model.fit(X_train, y_train)\n",
        "\n",
        "y_pred_test = best_xgb_model.predict(X_test)\n",
        "\n",
        "classification_report(y_test, y_pred_test)"
      ]
    },
    {
      "cell_type": "markdown",
      "source": [
        "### LGBMClassifier"
      ],
      "metadata": {
        "id": "XoTQ-a6wC82S"
      },
      "id": "XoTQ-a6wC82S"
    },
    {
      "cell_type": "code",
      "execution_count": null,
      "id": "bb008ce2-7103-4462-91b5-cea804851493",
      "metadata": {
        "id": "bb008ce2-7103-4462-91b5-cea804851493"
      },
      "outputs": [],
      "source": [
        "param_grid = {\n",
        "    'num_leaves': [10, 20, 30],\n",
        "    'learning_rate': [0.1, 0.05, 0.01],\n",
        "    'max_depth': [3, 5, 7],\n",
        "    'n_estimators': [50, 100, 200],\n",
        "}\n",
        "\n",
        "lgbm_model = LGBMClassifier(objective='binary')\n",
        "\n",
        "grid_search = GridSearchCV(estimator=lgbm_model, param_grid=param_grid, cv=5, scoring='accuracy')\n",
        "\n",
        "grid_search.fit(X_train, y_train)\n",
        "\n",
        "best_lgbm_model = LGBMClassifier(**grid_search.best_params_, objective='binary')\n",
        "\n",
        "best_lgbm_model.fit(X_train, y_train)\n",
        "\n",
        "y_pred_test = best_lgbm_model.predict(X_test)\n",
        "\n",
        "classification_report(y_test, y_pred_test)"
      ]
    },
    {
      "cell_type": "markdown",
      "source": [
        "### Saving the model1"
      ],
      "metadata": {
        "id": "EyZyjJatDEvj"
      },
      "id": "EyZyjJatDEvj"
    },
    {
      "cell_type": "code",
      "execution_count": null,
      "id": "a5e796a7-a845-4085-bea7-8fceca610934",
      "metadata": {
        "id": "a5e796a7-a845-4085-bea7-8fceca610934"
      },
      "outputs": [],
      "source": [
        "pickle.dump(best_lgbm_model, open('model1.pickle', 'wb'))\n"
      ]
    },
    {
      "cell_type": "code",
      "execution_count": null,
      "id": "63756292-6d4f-4e21-a1f9-52b40aca3a22",
      "metadata": {
        "id": "63756292-6d4f-4e21-a1f9-52b40aca3a22"
      },
      "outputs": [],
      "source": [
        "original_columns = df.columns.tolist()\n",
        "print(original_columns)"
      ]
    }
  ],
  "metadata": {
    "environment": {
      "kernel": "python3",
      "name": "tf2-gpu.2-6.m108",
      "type": "gcloud",
      "uri": "gcr.io/deeplearning-platform-release/tf2-gpu.2-6:m108"
    },
    "kernelspec": {
      "display_name": "Python 3 (ipykernel)",
      "language": "python",
      "name": "python3"
    },
    "language_info": {
      "codemirror_mode": {
        "name": "ipython",
        "version": 3
      },
      "file_extension": ".py",
      "mimetype": "text/x-python",
      "name": "python",
      "nbconvert_exporter": "python",
      "pygments_lexer": "ipython3",
      "version": "3.9.16"
    },
    "colab": {
      "provenance": []
    }
  },
  "nbformat": 4,
  "nbformat_minor": 5
}