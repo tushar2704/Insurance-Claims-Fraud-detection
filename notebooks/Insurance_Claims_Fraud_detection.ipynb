{
  "cells": [
    {
      "cell_type": "markdown",
      "source": [
        "# Insurance Claims Fraud detection\n",
        "### Author github.com/2704"
      ],
      "metadata": {
        "id": "4eWD7eoGANYJ"
      },
      "id": "4eWD7eoGANYJ"
    },
    {
      "cell_type": "markdown",
      "source": [
        "### Importing the required Libraries\n"
      ],
      "metadata": {
        "id": "f14N6VI5A3CB"
      },
      "id": "f14N6VI5A3CB"
    },
    {
      "cell_type": "code",
      "execution_count": 1,
      "id": "580d4ef7-28ce-441b-840b-3f1b2861067d",
      "metadata": {
        "id": "580d4ef7-28ce-441b-840b-3f1b2861067d"
      },
      "outputs": [],
      "source": [
        "import pandas as pd\n",
        "import pickle\n",
        "from sklearn.preprocessing import OneHotEncoder\n",
        "from sklearn.model_selection import train_test_split\n"
      ]
    },
    {
      "cell_type": "code",
      "execution_count": 2,
      "id": "38f4bd9c-9198-48f5-894f-52476c7731c6",
      "metadata": {
        "colab": {
          "base_uri": "https://localhost:8080/",
          "height": 1000
        },
        "id": "38f4bd9c-9198-48f5-894f-52476c7731c6",
        "outputId": "810710f5-06e5-4687-9291-bf597b86a6a5"
      },
      "outputs": [
        {
          "output_type": "stream",
          "name": "stdout",
          "text": [
            "<class 'pandas.core.frame.DataFrame'>\n",
            "RangeIndex: 15420 entries, 0 to 15419\n",
            "Data columns (total 33 columns):\n",
            " #   Column                Non-Null Count  Dtype \n",
            "---  ------                --------------  ----- \n",
            " 0   Month                 15420 non-null  object\n",
            " 1   WeekOfMonth           15420 non-null  int64 \n",
            " 2   DayOfWeek             15420 non-null  object\n",
            " 3   Make                  15420 non-null  object\n",
            " 4   AccidentArea          15420 non-null  object\n",
            " 5   DayOfWeekClaimed      15420 non-null  object\n",
            " 6   MonthClaimed          15420 non-null  object\n",
            " 7   WeekOfMonthClaimed    15420 non-null  int64 \n",
            " 8   Sex                   15420 non-null  object\n",
            " 9   MaritalStatus         15420 non-null  object\n",
            " 10  Age                   15420 non-null  int64 \n",
            " 11  Fault                 15420 non-null  object\n",
            " 12  PolicyType            15420 non-null  object\n",
            " 13  VehicleCategory       15420 non-null  object\n",
            " 14  VehiclePrice          15420 non-null  object\n",
            " 15  FraudFound_P          15420 non-null  int64 \n",
            " 16  PolicyNumber          15420 non-null  int64 \n",
            " 17  RepNumber             15420 non-null  int64 \n",
            " 18  Deductible            15420 non-null  int64 \n",
            " 19  DriverRating          15420 non-null  int64 \n",
            " 20  Days_Policy_Accident  15420 non-null  object\n",
            " 21  Days_Policy_Claim     15420 non-null  object\n",
            " 22  PastNumberOfClaims    15420 non-null  object\n",
            " 23  AgeOfVehicle          15420 non-null  object\n",
            " 24  AgeOfPolicyHolder     15420 non-null  object\n",
            " 25  PoliceReportFiled     15420 non-null  object\n",
            " 26  WitnessPresent        15420 non-null  object\n",
            " 27  AgentType             15420 non-null  object\n",
            " 28  NumberOfSuppliments   15420 non-null  object\n",
            " 29  AddressChange_Claim   15420 non-null  object\n",
            " 30  NumberOfCars          15420 non-null  object\n",
            " 31  Year                  15420 non-null  int64 \n",
            " 32  BasePolicy            15420 non-null  object\n",
            "dtypes: int64(9), object(24)\n",
            "memory usage: 3.9+ MB\n"
          ]
        },
        {
          "output_type": "execute_result",
          "data": {
            "text/plain": [
              "  Month  WeekOfMonth  DayOfWeek    Make AccidentArea DayOfWeekClaimed  \\\n",
              "0   Dec            5  Wednesday   Honda        Urban          Tuesday   \n",
              "1   Jan            3  Wednesday   Honda        Urban           Monday   \n",
              "2   Oct            5     Friday   Honda        Urban         Thursday   \n",
              "3   Jun            2   Saturday  Toyota        Rural           Friday   \n",
              "4   Jan            5     Monday   Honda        Urban          Tuesday   \n",
              "\n",
              "  MonthClaimed  WeekOfMonthClaimed     Sex MaritalStatus  ...  AgeOfVehicle  \\\n",
              "0          Jan                   1  Female        Single  ...       3 years   \n",
              "1          Jan                   4    Male        Single  ...       6 years   \n",
              "2          Nov                   2    Male       Married  ...       7 years   \n",
              "3          Jul                   1    Male       Married  ...   more than 7   \n",
              "4          Feb                   2  Female        Single  ...       5 years   \n",
              "\n",
              "  AgeOfPolicyHolder PoliceReportFiled WitnessPresent AgentType  \\\n",
              "0          26 to 30                No             No  External   \n",
              "1          31 to 35               Yes             No  External   \n",
              "2          41 to 50                No             No  External   \n",
              "3          51 to 65               Yes             No  External   \n",
              "4          31 to 35                No             No  External   \n",
              "\n",
              "   NumberOfSuppliments  AddressChange_Claim  NumberOfCars  Year  BasePolicy  \n",
              "0                 none               1 year        3 to 4  1994   Liability  \n",
              "1                 none            no change     1 vehicle  1994   Collision  \n",
              "2                 none            no change     1 vehicle  1994   Collision  \n",
              "3          more than 5            no change     1 vehicle  1994   Liability  \n",
              "4                 none            no change     1 vehicle  1994   Collision  \n",
              "\n",
              "[5 rows x 33 columns]"
            ],
            "text/html": [
              "\n",
              "\n",
              "  <div id=\"df-ffab95f3-69b7-4280-8e60-b502fcfbcfcf\">\n",
              "    <div class=\"colab-df-container\">\n",
              "      <div>\n",
              "<style scoped>\n",
              "    .dataframe tbody tr th:only-of-type {\n",
              "        vertical-align: middle;\n",
              "    }\n",
              "\n",
              "    .dataframe tbody tr th {\n",
              "        vertical-align: top;\n",
              "    }\n",
              "\n",
              "    .dataframe thead th {\n",
              "        text-align: right;\n",
              "    }\n",
              "</style>\n",
              "<table border=\"1\" class=\"dataframe\">\n",
              "  <thead>\n",
              "    <tr style=\"text-align: right;\">\n",
              "      <th></th>\n",
              "      <th>Month</th>\n",
              "      <th>WeekOfMonth</th>\n",
              "      <th>DayOfWeek</th>\n",
              "      <th>Make</th>\n",
              "      <th>AccidentArea</th>\n",
              "      <th>DayOfWeekClaimed</th>\n",
              "      <th>MonthClaimed</th>\n",
              "      <th>WeekOfMonthClaimed</th>\n",
              "      <th>Sex</th>\n",
              "      <th>MaritalStatus</th>\n",
              "      <th>...</th>\n",
              "      <th>AgeOfVehicle</th>\n",
              "      <th>AgeOfPolicyHolder</th>\n",
              "      <th>PoliceReportFiled</th>\n",
              "      <th>WitnessPresent</th>\n",
              "      <th>AgentType</th>\n",
              "      <th>NumberOfSuppliments</th>\n",
              "      <th>AddressChange_Claim</th>\n",
              "      <th>NumberOfCars</th>\n",
              "      <th>Year</th>\n",
              "      <th>BasePolicy</th>\n",
              "    </tr>\n",
              "  </thead>\n",
              "  <tbody>\n",
              "    <tr>\n",
              "      <th>0</th>\n",
              "      <td>Dec</td>\n",
              "      <td>5</td>\n",
              "      <td>Wednesday</td>\n",
              "      <td>Honda</td>\n",
              "      <td>Urban</td>\n",
              "      <td>Tuesday</td>\n",
              "      <td>Jan</td>\n",
              "      <td>1</td>\n",
              "      <td>Female</td>\n",
              "      <td>Single</td>\n",
              "      <td>...</td>\n",
              "      <td>3 years</td>\n",
              "      <td>26 to 30</td>\n",
              "      <td>No</td>\n",
              "      <td>No</td>\n",
              "      <td>External</td>\n",
              "      <td>none</td>\n",
              "      <td>1 year</td>\n",
              "      <td>3 to 4</td>\n",
              "      <td>1994</td>\n",
              "      <td>Liability</td>\n",
              "    </tr>\n",
              "    <tr>\n",
              "      <th>1</th>\n",
              "      <td>Jan</td>\n",
              "      <td>3</td>\n",
              "      <td>Wednesday</td>\n",
              "      <td>Honda</td>\n",
              "      <td>Urban</td>\n",
              "      <td>Monday</td>\n",
              "      <td>Jan</td>\n",
              "      <td>4</td>\n",
              "      <td>Male</td>\n",
              "      <td>Single</td>\n",
              "      <td>...</td>\n",
              "      <td>6 years</td>\n",
              "      <td>31 to 35</td>\n",
              "      <td>Yes</td>\n",
              "      <td>No</td>\n",
              "      <td>External</td>\n",
              "      <td>none</td>\n",
              "      <td>no change</td>\n",
              "      <td>1 vehicle</td>\n",
              "      <td>1994</td>\n",
              "      <td>Collision</td>\n",
              "    </tr>\n",
              "    <tr>\n",
              "      <th>2</th>\n",
              "      <td>Oct</td>\n",
              "      <td>5</td>\n",
              "      <td>Friday</td>\n",
              "      <td>Honda</td>\n",
              "      <td>Urban</td>\n",
              "      <td>Thursday</td>\n",
              "      <td>Nov</td>\n",
              "      <td>2</td>\n",
              "      <td>Male</td>\n",
              "      <td>Married</td>\n",
              "      <td>...</td>\n",
              "      <td>7 years</td>\n",
              "      <td>41 to 50</td>\n",
              "      <td>No</td>\n",
              "      <td>No</td>\n",
              "      <td>External</td>\n",
              "      <td>none</td>\n",
              "      <td>no change</td>\n",
              "      <td>1 vehicle</td>\n",
              "      <td>1994</td>\n",
              "      <td>Collision</td>\n",
              "    </tr>\n",
              "    <tr>\n",
              "      <th>3</th>\n",
              "      <td>Jun</td>\n",
              "      <td>2</td>\n",
              "      <td>Saturday</td>\n",
              "      <td>Toyota</td>\n",
              "      <td>Rural</td>\n",
              "      <td>Friday</td>\n",
              "      <td>Jul</td>\n",
              "      <td>1</td>\n",
              "      <td>Male</td>\n",
              "      <td>Married</td>\n",
              "      <td>...</td>\n",
              "      <td>more than 7</td>\n",
              "      <td>51 to 65</td>\n",
              "      <td>Yes</td>\n",
              "      <td>No</td>\n",
              "      <td>External</td>\n",
              "      <td>more than 5</td>\n",
              "      <td>no change</td>\n",
              "      <td>1 vehicle</td>\n",
              "      <td>1994</td>\n",
              "      <td>Liability</td>\n",
              "    </tr>\n",
              "    <tr>\n",
              "      <th>4</th>\n",
              "      <td>Jan</td>\n",
              "      <td>5</td>\n",
              "      <td>Monday</td>\n",
              "      <td>Honda</td>\n",
              "      <td>Urban</td>\n",
              "      <td>Tuesday</td>\n",
              "      <td>Feb</td>\n",
              "      <td>2</td>\n",
              "      <td>Female</td>\n",
              "      <td>Single</td>\n",
              "      <td>...</td>\n",
              "      <td>5 years</td>\n",
              "      <td>31 to 35</td>\n",
              "      <td>No</td>\n",
              "      <td>No</td>\n",
              "      <td>External</td>\n",
              "      <td>none</td>\n",
              "      <td>no change</td>\n",
              "      <td>1 vehicle</td>\n",
              "      <td>1994</td>\n",
              "      <td>Collision</td>\n",
              "    </tr>\n",
              "  </tbody>\n",
              "</table>\n",
              "<p>5 rows × 33 columns</p>\n",
              "</div>\n",
              "      <button class=\"colab-df-convert\" onclick=\"convertToInteractive('df-ffab95f3-69b7-4280-8e60-b502fcfbcfcf')\"\n",
              "              title=\"Convert this dataframe to an interactive table.\"\n",
              "              style=\"display:none;\">\n",
              "\n",
              "  <svg xmlns=\"http://www.w3.org/2000/svg\" height=\"24px\"viewBox=\"0 0 24 24\"\n",
              "       width=\"24px\">\n",
              "    <path d=\"M0 0h24v24H0V0z\" fill=\"none\"/>\n",
              "    <path d=\"M18.56 5.44l.94 2.06.94-2.06 2.06-.94-2.06-.94-.94-2.06-.94 2.06-2.06.94zm-11 1L8.5 8.5l.94-2.06 2.06-.94-2.06-.94L8.5 2.5l-.94 2.06-2.06.94zm10 10l.94 2.06.94-2.06 2.06-.94-2.06-.94-.94-2.06-.94 2.06-2.06.94z\"/><path d=\"M17.41 7.96l-1.37-1.37c-.4-.4-.92-.59-1.43-.59-.52 0-1.04.2-1.43.59L10.3 9.45l-7.72 7.72c-.78.78-.78 2.05 0 2.83L4 21.41c.39.39.9.59 1.41.59.51 0 1.02-.2 1.41-.59l7.78-7.78 2.81-2.81c.8-.78.8-2.07 0-2.86zM5.41 20L4 18.59l7.72-7.72 1.47 1.35L5.41 20z\"/>\n",
              "  </svg>\n",
              "      </button>\n",
              "\n",
              "\n",
              "\n",
              "    <div id=\"df-2a089bd4-1aaf-441d-8c18-5ef79779b8a9\">\n",
              "      <button class=\"colab-df-quickchart\" onclick=\"quickchart('df-2a089bd4-1aaf-441d-8c18-5ef79779b8a9')\"\n",
              "              title=\"Suggest charts.\"\n",
              "              style=\"display:none;\">\n",
              "\n",
              "<svg xmlns=\"http://www.w3.org/2000/svg\" height=\"24px\"viewBox=\"0 0 24 24\"\n",
              "     width=\"24px\">\n",
              "    <g>\n",
              "        <path d=\"M19 3H5c-1.1 0-2 .9-2 2v14c0 1.1.9 2 2 2h14c1.1 0 2-.9 2-2V5c0-1.1-.9-2-2-2zM9 17H7v-7h2v7zm4 0h-2V7h2v10zm4 0h-2v-4h2v4z\"/>\n",
              "    </g>\n",
              "</svg>\n",
              "      </button>\n",
              "    </div>\n",
              "\n",
              "<style>\n",
              "  .colab-df-quickchart {\n",
              "    background-color: #E8F0FE;\n",
              "    border: none;\n",
              "    border-radius: 50%;\n",
              "    cursor: pointer;\n",
              "    display: none;\n",
              "    fill: #1967D2;\n",
              "    height: 32px;\n",
              "    padding: 0 0 0 0;\n",
              "    width: 32px;\n",
              "  }\n",
              "\n",
              "  .colab-df-quickchart:hover {\n",
              "    background-color: #E2EBFA;\n",
              "    box-shadow: 0px 1px 2px rgba(60, 64, 67, 0.3), 0px 1px 3px 1px rgba(60, 64, 67, 0.15);\n",
              "    fill: #174EA6;\n",
              "  }\n",
              "\n",
              "  [theme=dark] .colab-df-quickchart {\n",
              "    background-color: #3B4455;\n",
              "    fill: #D2E3FC;\n",
              "  }\n",
              "\n",
              "  [theme=dark] .colab-df-quickchart:hover {\n",
              "    background-color: #434B5C;\n",
              "    box-shadow: 0px 1px 3px 1px rgba(0, 0, 0, 0.15);\n",
              "    filter: drop-shadow(0px 1px 2px rgba(0, 0, 0, 0.3));\n",
              "    fill: #FFFFFF;\n",
              "  }\n",
              "</style>\n",
              "\n",
              "    <script>\n",
              "      async function quickchart(key) {\n",
              "        const containerElement = document.querySelector('#' + key);\n",
              "        const charts = await google.colab.kernel.invokeFunction(\n",
              "            'suggestCharts', [key], {});\n",
              "      }\n",
              "    </script>\n",
              "\n",
              "      <script>\n",
              "\n",
              "function displayQuickchartButton(domScope) {\n",
              "  let quickchartButtonEl =\n",
              "    domScope.querySelector('#df-2a089bd4-1aaf-441d-8c18-5ef79779b8a9 button.colab-df-quickchart');\n",
              "  quickchartButtonEl.style.display =\n",
              "    google.colab.kernel.accessAllowed ? 'block' : 'none';\n",
              "}\n",
              "\n",
              "        displayQuickchartButton(document);\n",
              "      </script>\n",
              "      <style>\n",
              "    .colab-df-container {\n",
              "      display:flex;\n",
              "      flex-wrap:wrap;\n",
              "      gap: 12px;\n",
              "    }\n",
              "\n",
              "    .colab-df-convert {\n",
              "      background-color: #E8F0FE;\n",
              "      border: none;\n",
              "      border-radius: 50%;\n",
              "      cursor: pointer;\n",
              "      display: none;\n",
              "      fill: #1967D2;\n",
              "      height: 32px;\n",
              "      padding: 0 0 0 0;\n",
              "      width: 32px;\n",
              "    }\n",
              "\n",
              "    .colab-df-convert:hover {\n",
              "      background-color: #E2EBFA;\n",
              "      box-shadow: 0px 1px 2px rgba(60, 64, 67, 0.3), 0px 1px 3px 1px rgba(60, 64, 67, 0.15);\n",
              "      fill: #174EA6;\n",
              "    }\n",
              "\n",
              "    [theme=dark] .colab-df-convert {\n",
              "      background-color: #3B4455;\n",
              "      fill: #D2E3FC;\n",
              "    }\n",
              "\n",
              "    [theme=dark] .colab-df-convert:hover {\n",
              "      background-color: #434B5C;\n",
              "      box-shadow: 0px 1px 3px 1px rgba(0, 0, 0, 0.15);\n",
              "      filter: drop-shadow(0px 1px 2px rgba(0, 0, 0, 0.3));\n",
              "      fill: #FFFFFF;\n",
              "    }\n",
              "  </style>\n",
              "\n",
              "      <script>\n",
              "        const buttonEl =\n",
              "          document.querySelector('#df-ffab95f3-69b7-4280-8e60-b502fcfbcfcf button.colab-df-convert');\n",
              "        buttonEl.style.display =\n",
              "          google.colab.kernel.accessAllowed ? 'block' : 'none';\n",
              "\n",
              "        async function convertToInteractive(key) {\n",
              "          const element = document.querySelector('#df-ffab95f3-69b7-4280-8e60-b502fcfbcfcf');\n",
              "          const dataTable =\n",
              "            await google.colab.kernel.invokeFunction('convertToInteractive',\n",
              "                                                     [key], {});\n",
              "          if (!dataTable) return;\n",
              "\n",
              "          const docLinkHtml = 'Like what you see? Visit the ' +\n",
              "            '<a target=\"_blank\" href=https://colab.research.google.com/notebooks/data_table.ipynb>data table notebook</a>'\n",
              "            + ' to learn more about interactive tables.';\n",
              "          element.innerHTML = '';\n",
              "          dataTable['output_type'] = 'display_data';\n",
              "          await google.colab.output.renderOutput(dataTable, element);\n",
              "          const docLink = document.createElement('div');\n",
              "          docLink.innerHTML = docLinkHtml;\n",
              "          element.appendChild(docLink);\n",
              "        }\n",
              "      </script>\n",
              "    </div>\n",
              "  </div>\n"
            ]
          },
          "metadata": {},
          "execution_count": 2
        }
      ],
      "source": [
        "# Load the dataset from the provided CSV file\n",
        "df = pd.read_csv('/content/fraud.csv')\n",
        "\n",
        "# Display information about the dataset\n",
        "df.info()\n",
        "\n",
        "# Display the first few rows of the dataset\n",
        "df.head()"
      ]
    },
    {
      "cell_type": "code",
      "execution_count": 3,
      "id": "a8333b0b-3a4c-43af-8b0a-407927669982",
      "metadata": {
        "id": "a8333b0b-3a4c-43af-8b0a-407927669982"
      },
      "outputs": [],
      "source": [
        "\n",
        "# Replace ' - ' with '_' in the 'PolicyType' column\n",
        "df['PolicyType'] = df['PolicyType'].str.replace(' - ', '_')\n",
        "\n",
        "# Replace spaces with underscores throughout the DataFrame\n",
        "df = df.replace(' ', '_', regex=True)\n"
      ]
    },
    {
      "cell_type": "code",
      "execution_count": 4,
      "id": "19161083-0c50-41e7-a0d9-251472b61964",
      "metadata": {
        "colab": {
          "base_uri": "https://localhost:8080/"
        },
        "id": "19161083-0c50-41e7-a0d9-251472b61964",
        "outputId": "077c90f0-c788-41d6-f0a6-74e39d8d9811"
      },
      "outputs": [
        {
          "output_type": "stream",
          "name": "stdout",
          "text": [
            "Column: Month\n",
            "Unique Values: ['Apr', 'Aug', 'Dec', 'Feb', 'Jan', 'Jul', 'Jun', 'Mar', 'May', 'Nov', 'Oct', 'Sep'] \n",
            "\n",
            "Column: WeekOfMonth\n",
            "Unique Values: [1, 2, 3, 4, 5] \n",
            "\n",
            "Column: DayOfWeek\n",
            "Unique Values: ['Friday', 'Monday', 'Saturday', 'Sunday', 'Thursday', 'Tuesday', 'Wednesday'] \n",
            "\n",
            "Column: Make\n",
            "Unique Values: ['Accura', 'BMW', 'Chevrolet', 'Dodge', 'Ferrari', 'Ford', 'Honda', 'Jaguar', 'Lexus', 'Mazda', 'Mecedes', 'Mercury', 'Nisson', 'Pontiac', 'Porche', 'Saab', 'Saturn', 'Toyota', 'VW'] \n",
            "\n",
            "Column: AccidentArea\n",
            "Unique Values: ['Rural', 'Urban'] \n",
            "\n",
            "Column: DayOfWeekClaimed\n",
            "Unique Values: ['0', 'Friday', 'Monday', 'Saturday', 'Sunday', 'Thursday', 'Tuesday', 'Wednesday'] \n",
            "\n",
            "Column: MonthClaimed\n",
            "Unique Values: ['0', 'Apr', 'Aug', 'Dec', 'Feb', 'Jan', 'Jul', 'Jun', 'Mar', 'May', 'Nov', 'Oct', 'Sep'] \n",
            "\n",
            "Column: WeekOfMonthClaimed\n",
            "Unique Values: [1, 2, 3, 4, 5] \n",
            "\n",
            "Column: Sex\n",
            "Unique Values: ['Female', 'Male'] \n",
            "\n",
            "Column: MaritalStatus\n",
            "Unique Values: ['Divorced', 'Married', 'Single', 'Widow'] \n",
            "\n",
            "Column: Age\n",
            "Unique Values: [0, 16, 17, 18, 19, 20, 21, 22, 23, 24, 25, 26, 27, 28, 29, 30, 31, 32, 33, 34, 35, 36, 37, 38, 39, 40, 41, 42, 43, 44, 45, 46, 47, 48, 49, 50, 51, 52, 53, 54, 55, 56, 57, 58, 59, 60, 61, 62, 63, 64, 65, 66, 67, 68, 69, 70, 71, 72, 73, 74, 75, 76, 77, 78, 79, 80] \n",
            "\n",
            "Column: Fault\n",
            "Unique Values: ['Policy_Holder', 'Third_Party'] \n",
            "\n",
            "Column: PolicyType\n",
            "Unique Values: ['Sedan_All_Perils', 'Sedan_Collision', 'Sedan_Liability', 'Sport_All_Perils', 'Sport_Collision', 'Sport_Liability', 'Utility_All_Perils', 'Utility_Collision', 'Utility_Liability'] \n",
            "\n",
            "Column: VehicleCategory\n",
            "Unique Values: ['Sedan', 'Sport', 'Utility'] \n",
            "\n",
            "Column: VehiclePrice\n",
            "Unique Values: ['20000_to_29000', '30000_to_39000', '40000_to_59000', '60000_to_69000', 'less_than_20000', 'more_than_69000'] \n",
            "\n",
            "Column: FraudFound_P\n",
            "Unique Values: [0, 1] \n",
            "\n",
            "Column: RepNumber\n",
            "Unique Values: [1, 2, 3, 4, 5, 6, 7, 8, 9, 10, 11, 12, 13, 14, 15, 16] \n",
            "\n",
            "Column: Deductible\n",
            "Unique Values: [300, 400, 500, 700] \n",
            "\n",
            "Column: DriverRating\n",
            "Unique Values: [1, 2, 3, 4] \n",
            "\n",
            "Column: Days_Policy_Accident\n",
            "Unique Values: ['15_to_30', '1_to_7', '8_to_15', 'more_than_30', 'none'] \n",
            "\n",
            "Column: Days_Policy_Claim\n",
            "Unique Values: ['15_to_30', '8_to_15', 'more_than_30', 'none'] \n",
            "\n",
            "Column: PastNumberOfClaims\n",
            "Unique Values: ['1', '2_to_4', 'more_than_4', 'none'] \n",
            "\n",
            "Column: AgeOfVehicle\n",
            "Unique Values: ['2_years', '3_years', '4_years', '5_years', '6_years', '7_years', 'more_than_7', 'new'] \n",
            "\n",
            "Column: AgeOfPolicyHolder\n",
            "Unique Values: ['16_to_17', '18_to_20', '21_to_25', '26_to_30', '31_to_35', '36_to_40', '41_to_50', '51_to_65', 'over_65'] \n",
            "\n",
            "Column: PoliceReportFiled\n",
            "Unique Values: ['No', 'Yes'] \n",
            "\n",
            "Column: WitnessPresent\n",
            "Unique Values: ['No', 'Yes'] \n",
            "\n",
            "Column: AgentType\n",
            "Unique Values: ['External', 'Internal'] \n",
            "\n",
            "Column: NumberOfSuppliments\n",
            "Unique Values: ['1_to_2', '3_to_5', 'more_than_5', 'none'] \n",
            "\n",
            "Column: AddressChange_Claim\n",
            "Unique Values: ['1_year', '2_to_3_years', '4_to_8_years', 'no_change', 'under_6_months'] \n",
            "\n",
            "Column: NumberOfCars\n",
            "Unique Values: ['1_vehicle', '2_vehicles', '3_to_4', '5_to_8', 'more_than_8'] \n",
            "\n",
            "Column: Year\n",
            "Unique Values: [1994, 1995, 1996] \n",
            "\n",
            "Column: BasePolicy\n",
            "Unique Values: ['All_Perils', 'Collision', 'Liability'] \n",
            "\n"
          ]
        }
      ],
      "source": [
        "#Checking for unique values\n",
        "for column in df:\n",
        "    # Check if the current column is 'PolicyNumber'\n",
        "    if column == 'PolicyNumber':\n",
        "        pass\n",
        "    else:\n",
        "        # Print the column name\n",
        "        print(\"Column:\", column)\n",
        "\n",
        "        # Print sorted unique values in the column\n",
        "        unique_values = sorted(df[column].unique())\n",
        "        print(\"Unique Values:\", unique_values, \"\\n\")\n"
      ]
    },
    {
      "cell_type": "code",
      "execution_count": 5,
      "id": "799f4239-3ca9-4ee8-88ac-4cbda7fbbe31",
      "metadata": {
        "colab": {
          "base_uri": "https://localhost:8080/"
        },
        "id": "799f4239-3ca9-4ee8-88ac-4cbda7fbbe31",
        "outputId": "cec43cdd-313a-46e7-881c-49266f825a95"
      },
      "outputs": [
        {
          "output_type": "stream",
          "name": "stderr",
          "text": [
            "<ipython-input-5-7e088324c657>:2: FutureWarning: In a future version of pandas all arguments of DataFrame.drop except for the argument 'labels' will be keyword-only.\n",
            "  features = df.drop('FraudFound_P', 1).columns\n"
          ]
        }
      ],
      "source": [
        "# Extract feature columns by dropping the 'FraudFound_P' column\n",
        "features = df.drop('FraudFound_P', 1).columns\n",
        "\n",
        "# Save the list of feature columns to a pickle file\n",
        "with open(\"features1.pkl\", \"wb\") as file:\n",
        "    pickle.dump(features, file)"
      ]
    },
    {
      "cell_type": "code",
      "execution_count": 6,
      "id": "fa9d6856-8a8a-4fda-951d-1080777c5eb0",
      "metadata": {
        "colab": {
          "base_uri": "https://localhost:8080/"
        },
        "id": "fa9d6856-8a8a-4fda-951d-1080777c5eb0",
        "outputId": "7e7ca658-9201-49ef-b907-8a60afbfda27"
      },
      "outputs": [
        {
          "output_type": "stream",
          "name": "stdout",
          "text": [
            "Categorical Columns: ['Month', 'DayOfWeek', 'Make', 'AccidentArea', 'DayOfWeekClaimed', 'MonthClaimed', 'Sex', 'MaritalStatus', 'Fault', 'PolicyType', 'VehicleCategory', 'VehiclePrice', 'Days_Policy_Accident', 'Days_Policy_Claim', 'PastNumberOfClaims', 'AgeOfVehicle', 'AgeOfPolicyHolder', 'PoliceReportFiled', 'WitnessPresent', 'AgentType', 'NumberOfSuppliments', 'AddressChange_Claim', 'NumberOfCars', 'BasePolicy']\n"
          ]
        }
      ],
      "source": [
        "# Function to extract categorical columns from a DataFrame\n",
        "def get_categorical_columns(dataframe):\n",
        "    \"\"\"\n",
        "    Extracts and returns a list of categorical column names from the given DataFrame.\n",
        "\n",
        "    Args:\n",
        "        dataframe (pd.DataFrame): The DataFrame from which categorical columns are to be extracted.\n",
        "\n",
        "    Returns:\n",
        "        list: A list containing the names of categorical columns.\n",
        "    \"\"\"\n",
        "    # Select columns with data type 'object' (categorical)\n",
        "    categorical_columns = dataframe.select_dtypes(include='object').columns.tolist()\n",
        "    return categorical_columns\n",
        "\n",
        "# Call the function to get categorical column names from the DataFrame 'df'\n",
        "categorical_cols = get_categorical_columns(df)\n",
        "\n",
        "# Print the list of categorical column names\n",
        "print(\"Categorical Columns:\", categorical_cols)"
      ]
    },
    {
      "cell_type": "code",
      "execution_count": 7,
      "id": "a41f1610-d0a8-4e79-8a4c-ab414bd59e21",
      "metadata": {
        "colab": {
          "base_uri": "https://localhost:8080/"
        },
        "id": "a41f1610-d0a8-4e79-8a4c-ab414bd59e21",
        "outputId": "ae9e0e4e-8fbd-485e-9ea6-99ff40707593"
      },
      "outputs": [
        {
          "output_type": "stream",
          "name": "stderr",
          "text": [
            "/usr/local/lib/python3.10/dist-packages/sklearn/preprocessing/_encoders.py:868: FutureWarning: `sparse` was renamed to `sparse_output` in version 1.2 and will be removed in 1.4. `sparse_output` is ignored unless you leave `sparse` to its default value.\n",
            "  warnings.warn(\n"
          ]
        }
      ],
      "source": [
        "# List of categorical columns to be one-hot encoded\n",
        "columns_to_encode = ['Month', 'DayOfWeek', 'Make', 'AccidentArea', 'DayOfWeekClaimed', 'MonthClaimed', 'Sex', 'MaritalStatus', 'Fault', 'PolicyType', 'VehicleCategory', 'VehiclePrice', 'Days_Policy_Accident', 'Days_Policy_Claim', 'PastNumberOfClaims', 'AgeOfVehicle', 'AgeOfPolicyHolder', 'PoliceReportFiled', 'WitnessPresent', 'AgentType',\n",
        "                     'NumberOfSuppliments', 'AddressChange_Claim', 'NumberOfCars', 'BasePolicy']\n",
        "\n",
        "# Fit OneHotEncoder to the specified columns\n",
        "enc = OneHotEncoder(sparse=False).fit(df.loc[:, columns_to_encode])\n",
        "\n",
        "# Save the fitted encoder to a pickle file\n",
        "with open(\"encoder1.pkl\", \"wb\") as file:\n",
        "    pickle.dump(enc, file)"
      ]
    },
    {
      "cell_type": "code",
      "execution_count": 8,
      "id": "071deb61-5740-4953-8dd8-66d1856cca22",
      "metadata": {
        "colab": {
          "base_uri": "https://localhost:8080/"
        },
        "id": "071deb61-5740-4953-8dd8-66d1856cca22",
        "outputId": "227aeadb-d3fa-484a-d8c0-7325c3ec63ad"
      },
      "outputs": [
        {
          "output_type": "stream",
          "name": "stderr",
          "text": [
            "<ipython-input-8-9bab77d2a894>:10: FutureWarning: In a future version of pandas all arguments of DataFrame.drop except for the argument 'labels' will be keyword-only.\n",
            "  df = df.drop(columns_to_encode, 1)\n",
            "<ipython-input-8-9bab77d2a894>:16: FutureWarning: In a future version of pandas all arguments of DataFrame.drop except for the argument 'labels' will be keyword-only.\n",
            "  X, y = df.drop('FraudFound_P', 1), df.loc[:, 'FraudFound_P']\n"
          ]
        }
      ],
      "source": [
        "from sklearn.model_selection import train_test_split\n",
        "\n",
        "# Get the names of the encoded columns\n",
        "column_names = enc.get_feature_names_out(columns_to_encode)\n",
        "\n",
        "# Encode categorical variables and create a DataFrame\n",
        "encoded_variables = pd.DataFrame(enc.transform(df.loc[:, columns_to_encode]), columns=column_names)\n",
        "\n",
        "# Drop original categorical columns from the DataFrame\n",
        "df = df.drop(columns_to_encode, 1)\n",
        "\n",
        "# Concatenate the encoded variables DataFrame with the original DataFrame\n",
        "df = pd.concat([df, encoded_variables], axis=1)\n",
        "\n",
        "# Separate features (X) and target variable (y)\n",
        "X, y = df.drop('FraudFound_P', 1), df.loc[:, 'FraudFound_P']\n",
        "\n",
        "# Split the data into training and testing sets\n",
        "X_train, X_test, y_train, y_test = train_test_split(X, y, test_size=0.3, shuffle=True, random_state=1)\n"
      ]
    },
    {
      "cell_type": "code",
      "execution_count": 9,
      "id": "b1193704-4cdb-441a-935a-dd4f1e8e2e46",
      "metadata": {
        "colab": {
          "base_uri": "https://localhost:8080/"
        },
        "id": "b1193704-4cdb-441a-935a-dd4f1e8e2e46",
        "outputId": "a972a0da-2142-4688-e787-243241aca625"
      },
      "outputs": [
        {
          "output_type": "stream",
          "name": "stdout",
          "text": [
            "Shape of X_train: (10794, 148)\n",
            "Shape of X_test: (4626, 148)\n"
          ]
        }
      ],
      "source": [
        "print(\"Shape of X_train:\", X_train.shape)\n",
        "print(\"Shape of X_test:\", X_test.shape)\n"
      ]
    },
    {
      "cell_type": "markdown",
      "source": [
        "## Importing Modeling libraries"
      ],
      "metadata": {
        "id": "ptUchguFCLpT"
      },
      "id": "ptUchguFCLpT"
    },
    {
      "cell_type": "code",
      "execution_count": 10,
      "id": "5b58821f-135a-4989-8bf6-8e1fcc5361c2",
      "metadata": {
        "id": "5b58821f-135a-4989-8bf6-8e1fcc5361c2"
      },
      "outputs": [],
      "source": [
        "!pip install -q xgboost lightgbm"
      ]
    },
    {
      "cell_type": "code",
      "execution_count": 11,
      "id": "4ccfae1d-7121-4b80-aa24-be41231bffba",
      "metadata": {
        "id": "4ccfae1d-7121-4b80-aa24-be41231bffba"
      },
      "outputs": [],
      "source": [
        "import xgboost as xgb\n",
        "from sklearn.metrics import classification_report\n",
        "from xgboost import XGBClassifier\n",
        "from lightgbm import LGBMClassifier\n",
        "from sklearn.model_selection import GridSearchCV"
      ]
    },
    {
      "cell_type": "code",
      "execution_count": 12,
      "id": "48b7b263-f49b-40c7-a3a3-901b23cf6023",
      "metadata": {
        "id": "48b7b263-f49b-40c7-a3a3-901b23cf6023"
      },
      "outputs": [],
      "source": [
        "from sklearn.metrics import (\n",
        "    f1_score,\n",
        "    accuracy_score,\n",
        "    recall_score,\n",
        "    precision_score,\n",
        "    confusion_matrix,\n",
        "    roc_auc_score,\n",
        "\n",
        "    classification_report,\n",
        "    precision_recall_curve\n",
        ")\n",
        "\n"
      ]
    },
    {
      "cell_type": "markdown",
      "source": [
        "### XGBClassifier"
      ],
      "metadata": {
        "id": "rU8TeMKHC2dM"
      },
      "id": "rU8TeMKHC2dM"
    },
    {
      "cell_type": "code",
      "source": [
        "# Create an XGBoost model with the binary logistic objective\n",
        "xgb_model = XGBClassifier(objective='binary:logistic')\n",
        "\n",
        "# Define a grid of hyperparameters to search through\n",
        "param_grid = {\n",
        "    'n_estimators': [50, 100, 200],\n",
        "    'max_depth': [3, 4, 5],\n",
        "    'learning_rate': [0.1, 0.01, 0.001],\n",
        "    'gamma': [0, 0.1, 0.5],\n",
        "    'subsample': [0.5, 0.75, 1],\n",
        "    'colsample_bytree': [0.5, 0.75, 1]\n",
        "}\n",
        "\n",
        "# Perform Grid Search to find the best combination of hyperparameters\n",
        "grid_search = GridSearchCV(estimator=xgb_model, param_grid=param_grid, cv=3, scoring='accuracy')\n",
        "grid_search.fit(X_train, y_train)\n",
        "\n",
        "# Print the best hyperparameters and corresponding accuracy score\n",
        "print(\"Best hyperparameters:\", grid_search.best_params_)\n",
        "print(\"Accuracy score:\", grid_search.best_score_)\n",
        "\n",
        "# Create the best XGBoost model using the best hyperparameters found\n",
        "best_xgb_model = XGBClassifier(objective='binary:logistic', **grid_search.best_params_)\n",
        "best_xgb_model.fit(X_train, y_train)\n",
        "\n",
        "# Make predictions on the test data\n",
        "y_pred_test = best_xgb_model.predict(X_test)\n",
        "\n",
        "# Generate a classification report to assess the model's performance\n",
        "report = classification_report(y_test, y_pred_test)\n",
        "print(\"Classification Report:\\n\", report)"
      ],
      "metadata": {
        "id": "zHFdUk0GGMi7"
      },
      "id": "zHFdUk0GGMi7",
      "execution_count": null,
      "outputs": []
    },
    {
      "cell_type": "markdown",
      "source": [
        "### LGBMClassifier"
      ],
      "metadata": {
        "id": "XoTQ-a6wC82S"
      },
      "id": "XoTQ-a6wC82S"
    },
    {
      "cell_type": "code",
      "execution_count": 15,
      "id": "bb008ce2-7103-4462-91b5-cea804851493",
      "metadata": {
        "id": "bb008ce2-7103-4462-91b5-cea804851493",
        "colab": {
          "base_uri": "https://localhost:8080/"
        },
        "outputId": "67a7c302-033c-4a79-c6eb-e4b78f46c3ee"
      },
      "outputs": [
        {
          "output_type": "stream",
          "name": "stdout",
          "text": [
            "Classification Report:\n",
            "               precision    recall  f1-score   support\n",
            "\n",
            "           0       0.95      1.00      0.97      4317\n",
            "           1       0.80      0.21      0.33       309\n",
            "\n",
            "    accuracy                           0.94      4626\n",
            "   macro avg       0.87      0.60      0.65      4626\n",
            "weighted avg       0.94      0.94      0.93      4626\n",
            "\n"
          ]
        }
      ],
      "source": [
        "from lightgbm import LGBMClassifier\n",
        "from sklearn.model_selection import GridSearchCV\n",
        "from sklearn.metrics import classification_report\n",
        "\n",
        "# Define a grid of hyperparameters to search through\n",
        "param_grid = {\n",
        "    'num_leaves': [10, 20, 30],\n",
        "    'learning_rate': [0.1, 0.05, 0.01],\n",
        "    'max_depth': [3, 5, 7],\n",
        "    'n_estimators': [50, 100, 200],\n",
        "}\n",
        "\n",
        "# Create a LightGBM model\n",
        "lgbm_model = LGBMClassifier(objective='binary')\n",
        "\n",
        "# Perform Grid Search to find the best combination of hyperparameters\n",
        "grid_search = GridSearchCV(estimator=lgbm_model, param_grid=param_grid, cv=5, scoring='accuracy')\n",
        "grid_search.fit(X_train, y_train)\n",
        "\n",
        "# Create the best LightGBM model using the best hyperparameters found\n",
        "best_lgbm_model = LGBMClassifier(**grid_search.best_params_, objective='binary')\n",
        "best_lgbm_model.fit(X_train, y_train)\n",
        "\n",
        "# Make predictions on the test data\n",
        "y_pred_test = best_lgbm_model.predict(X_test)\n",
        "\n",
        "# Generate a classification report to assess the model's performance\n",
        "report = classification_report(y_test, y_pred_test)\n",
        "print(\"Classification Report:\\n\", report)\n"
      ]
    },
    {
      "cell_type": "markdown",
      "source": [
        "### Saving the model1"
      ],
      "metadata": {
        "id": "EyZyjJatDEvj"
      },
      "id": "EyZyjJatDEvj"
    },
    {
      "cell_type": "code",
      "execution_count": 16,
      "id": "a5e796a7-a845-4085-bea7-8fceca610934",
      "metadata": {
        "id": "a5e796a7-a845-4085-bea7-8fceca610934"
      },
      "outputs": [],
      "source": [
        "# Save the best LightGBM model to a pickle file\n",
        "pickle.dump(best_lgbm_model, open('model1.pickle', 'wb'))\n",
        "\n"
      ]
    },
    {
      "cell_type": "code",
      "execution_count": 17,
      "id": "63756292-6d4f-4e21-a1f9-52b40aca3a22",
      "metadata": {
        "id": "63756292-6d4f-4e21-a1f9-52b40aca3a22",
        "colab": {
          "base_uri": "https://localhost:8080/"
        },
        "outputId": "4131eaa9-dc59-4b6f-aa2c-b33d45f216f2"
      },
      "outputs": [
        {
          "output_type": "stream",
          "name": "stdout",
          "text": [
            "Original Columns: ['WeekOfMonth', 'WeekOfMonthClaimed', 'Age', 'FraudFound_P', 'PolicyNumber', 'RepNumber', 'Deductible', 'DriverRating', 'Year', 'Month_Apr', 'Month_Aug', 'Month_Dec', 'Month_Feb', 'Month_Jan', 'Month_Jul', 'Month_Jun', 'Month_Mar', 'Month_May', 'Month_Nov', 'Month_Oct', 'Month_Sep', 'DayOfWeek_Friday', 'DayOfWeek_Monday', 'DayOfWeek_Saturday', 'DayOfWeek_Sunday', 'DayOfWeek_Thursday', 'DayOfWeek_Tuesday', 'DayOfWeek_Wednesday', 'Make_Accura', 'Make_BMW', 'Make_Chevrolet', 'Make_Dodge', 'Make_Ferrari', 'Make_Ford', 'Make_Honda', 'Make_Jaguar', 'Make_Lexus', 'Make_Mazda', 'Make_Mecedes', 'Make_Mercury', 'Make_Nisson', 'Make_Pontiac', 'Make_Porche', 'Make_Saab', 'Make_Saturn', 'Make_Toyota', 'Make_VW', 'AccidentArea_Rural', 'AccidentArea_Urban', 'DayOfWeekClaimed_0', 'DayOfWeekClaimed_Friday', 'DayOfWeekClaimed_Monday', 'DayOfWeekClaimed_Saturday', 'DayOfWeekClaimed_Sunday', 'DayOfWeekClaimed_Thursday', 'DayOfWeekClaimed_Tuesday', 'DayOfWeekClaimed_Wednesday', 'MonthClaimed_0', 'MonthClaimed_Apr', 'MonthClaimed_Aug', 'MonthClaimed_Dec', 'MonthClaimed_Feb', 'MonthClaimed_Jan', 'MonthClaimed_Jul', 'MonthClaimed_Jun', 'MonthClaimed_Mar', 'MonthClaimed_May', 'MonthClaimed_Nov', 'MonthClaimed_Oct', 'MonthClaimed_Sep', 'Sex_Female', 'Sex_Male', 'MaritalStatus_Divorced', 'MaritalStatus_Married', 'MaritalStatus_Single', 'MaritalStatus_Widow', 'Fault_Policy_Holder', 'Fault_Third_Party', 'PolicyType_Sedan_All_Perils', 'PolicyType_Sedan_Collision', 'PolicyType_Sedan_Liability', 'PolicyType_Sport_All_Perils', 'PolicyType_Sport_Collision', 'PolicyType_Sport_Liability', 'PolicyType_Utility_All_Perils', 'PolicyType_Utility_Collision', 'PolicyType_Utility_Liability', 'VehicleCategory_Sedan', 'VehicleCategory_Sport', 'VehicleCategory_Utility', 'VehiclePrice_20000_to_29000', 'VehiclePrice_30000_to_39000', 'VehiclePrice_40000_to_59000', 'VehiclePrice_60000_to_69000', 'VehiclePrice_less_than_20000', 'VehiclePrice_more_than_69000', 'Days_Policy_Accident_15_to_30', 'Days_Policy_Accident_1_to_7', 'Days_Policy_Accident_8_to_15', 'Days_Policy_Accident_more_than_30', 'Days_Policy_Accident_none', 'Days_Policy_Claim_15_to_30', 'Days_Policy_Claim_8_to_15', 'Days_Policy_Claim_more_than_30', 'Days_Policy_Claim_none', 'PastNumberOfClaims_1', 'PastNumberOfClaims_2_to_4', 'PastNumberOfClaims_more_than_4', 'PastNumberOfClaims_none', 'AgeOfVehicle_2_years', 'AgeOfVehicle_3_years', 'AgeOfVehicle_4_years', 'AgeOfVehicle_5_years', 'AgeOfVehicle_6_years', 'AgeOfVehicle_7_years', 'AgeOfVehicle_more_than_7', 'AgeOfVehicle_new', 'AgeOfPolicyHolder_16_to_17', 'AgeOfPolicyHolder_18_to_20', 'AgeOfPolicyHolder_21_to_25', 'AgeOfPolicyHolder_26_to_30', 'AgeOfPolicyHolder_31_to_35', 'AgeOfPolicyHolder_36_to_40', 'AgeOfPolicyHolder_41_to_50', 'AgeOfPolicyHolder_51_to_65', 'AgeOfPolicyHolder_over_65', 'PoliceReportFiled_No', 'PoliceReportFiled_Yes', 'WitnessPresent_No', 'WitnessPresent_Yes', 'AgentType_External', 'AgentType_Internal', 'NumberOfSuppliments_1_to_2', 'NumberOfSuppliments_3_to_5', 'NumberOfSuppliments_more_than_5', 'NumberOfSuppliments_none', 'AddressChange_Claim_1_year', 'AddressChange_Claim_2_to_3_years', 'AddressChange_Claim_4_to_8_years', 'AddressChange_Claim_no_change', 'AddressChange_Claim_under_6_months', 'NumberOfCars_1_vehicle', 'NumberOfCars_2_vehicles', 'NumberOfCars_3_to_4', 'NumberOfCars_5_to_8', 'NumberOfCars_more_than_8', 'BasePolicy_All_Perils', 'BasePolicy_Collision', 'BasePolicy_Liability']\n"
          ]
        }
      ],
      "source": [
        "# Get the list of original column names from the DataFrame\n",
        "original_columns = df.columns.tolist()\n",
        "\n",
        "# Print the list of original column names\n",
        "print(\"Original Columns:\", original_columns)\n"
      ]
    }
  ],
  "metadata": {
    "environment": {
      "kernel": "python3",
      "name": "tf2-gpu.2-6.m108",
      "type": "gcloud",
      "uri": "gcr.io/deeplearning-platform-release/tf2-gpu.2-6:m108"
    },
    "kernelspec": {
      "display_name": "Python 3",
      "name": "python3"
    },
    "language_info": {
      "codemirror_mode": {
        "name": "ipython",
        "version": 3
      },
      "file_extension": ".py",
      "mimetype": "text/x-python",
      "name": "python",
      "nbconvert_exporter": "python",
      "pygments_lexer": "ipython3",
      "version": "3.9.16"
    },
    "colab": {
      "provenance": []
    },
    "accelerator": "TPU"
  },
  "nbformat": 4,
  "nbformat_minor": 5
}